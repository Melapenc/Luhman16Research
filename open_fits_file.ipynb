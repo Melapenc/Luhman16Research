{
 "cells": [
  {
   "cell_type": "code",
   "execution_count": 117,
   "metadata": {},
   "outputs": [],
   "source": [
    "import sys\n",
    "import os\n",
    "import astropy.io.fits as fits\n",
    "import math\n",
    "import os.path\n",
    "from astropy.visualization import astropy_mpl_style\n",
    "from astropy.utils.data import get_pkg_data_filename\n",
    "from astropy.io import fits\n",
    "import matplotlib as plt\n",
    "import os.path\n",
    "import glob"
   ]
  },
  {
   "cell_type": "code",
   "execution_count": 118,
   "metadata": {},
   "outputs": [
    {
     "name": "stdout",
     "output_type": "stream",
     "text": [
      "Filename: /Users/melaniapena/Rsrch/Luhman_16_Research/BCD files/program10158-1746-selected_BCDs/r50037760/ch1/bcd/SPITZER_I1_50037760_0000_0000_2_bcd.fits\n",
      "No.    Name      Ver    Type      Cards   Dimensions   Format\n",
      "  0  PRIMARY       1 PrimaryHDU     673   (32, 32, 64)   float32   \n"
     ]
    }
   ],
   "source": [
    "# Opening the file\n",
    "\n",
    "# test with one bcd file\n",
    "dir_bcd ='/Users/melaniapena/Rsrch/Luhman_16_Research/BCD files/program10158-1746-selected_BCDs/r50037760/ch1/bcd/SPITZER_I1_50037760_0000_0000_2_bcd.fits'\n",
    "fits_file = fits.open(dir_bcd)\n",
    "\n",
    "## displays HDUL types within the fits file.\n",
    "fits_data = get_pkg_data_filename(dir_bcd)\n",
    "fits.info(fits_data)\n",
    "\n",
    "list_Primary = fits_file[0]\n",
    "list_Primary.header\n",
    "\n",
    "image_data= fits.getdata(fits_data, ext=0)"
   ]
  },
  {
   "cell_type": "code",
   "execution_count": 119,
   "metadata": {},
   "outputs": [],
   "source": [
    "# print(type(image_data))\n",
    "# print(image_data)\n",
    "# dimensions\n",
    "# print(image_data.shape)\n",
    "\n",
    "# plt.figure() \n",
    "# plt.imshow(image_data,vmin=-2,vmax=3) \n",
    "# plt.colorbar()"
   ]
  },
  {
   "cell_type": "code",
   "execution_count": 120,
   "metadata": {},
   "outputs": [],
   "source": [
    "# list_Primary.header"
   ]
  },
  {
   "cell_type": "code",
   "execution_count": 121,
   "metadata": {},
   "outputs": [
    {
     "name": "stdout",
     "output_type": "stream",
     "text": [
      "Frame Time: 2.0\n",
      "bmjd observation: 56781.095898\n",
      "Flux Conversion 0.1257\n",
      "Gain 3.7\n",
      "Exp-time 1.92\n"
     ]
    }
   ],
   "source": [
    "## pulls out specific information when needed.\n",
    "frame_t = fits_file[0].header['FRAMTIME']\n",
    "print('Frame Time:',frame_t)\n",
    "\n",
    "bmjd_obs = fits_file[0].header['BMJD_OBS']\n",
    "print('bmjd observation:', bmjd_obs)\n",
    "\n",
    "\n",
    "flux_conv= fits_file[0].header['FLUXCONV']\n",
    "print('Flux Conversion',flux_conv)\n",
    "\n",
    "gain = fits_file[0].header['GAIN']\n",
    "print('Gain',gain)\n",
    "\n",
    "exp_time= fits_file[0].header['EXPTIME']\n",
    "print('Exp-time', exp_time)"
   ]
  },
  {
   "cell_type": "code",
   "execution_count": 127,
   "metadata": {},
   "outputs": [],
   "source": [
    "from collections import deque\n",
    "i = 0\n",
    "j_final = 10\n",
    "\n",
    "frameday = frame_t/(3600*24)\n",
    "shift_bmjd = bmjd_obs + 0.5* frameday\n",
    "list_bmjd =[shift_bmjd]\n",
    "\n",
    "# print(list_bmjd[0])"
   ]
  },
  {
   "cell_type": "code",
   "execution_count": 128,
   "metadata": {},
   "outputs": [
    {
     "name": "stdout",
     "output_type": "stream",
     "text": [
      "[56781.095909574076, 56781.09593272222, 56781.095955870376, 56781.09597901852, 56781.09600216667, 56781.096025314815, 56781.09604846297, 56781.096071611115, 56781.09609475926, 56781.09611790741, 56781.09614105556]\n"
     ]
    }
   ],
   "source": [
    "for j in range(j_final):\n",
    "    value = list_bmjd[0] + (j+1)*frameday\n",
    "    bmjd_arr = list_bmjd.append(value)\n",
    "print(list_bmjd)"
   ]
  },
  {
   "cell_type": "code",
   "execution_count": 129,
   "metadata": {},
   "outputs": [
    {
     "name": "stdout",
     "output_type": "stream",
     "text": [
      "56.51551312649165\n"
     ]
    }
   ],
   "source": [
    "# flux conversion\n",
    "conversion_factor = gain*exp_time/flux_conv\n",
    "print(conversion_factor)"
   ]
  },
  {
   "cell_type": "code",
   "execution_count": null,
   "metadata": {},
   "outputs": [],
   "source": []
  }
 ],
 "metadata": {
  "kernelspec": {
   "display_name": "Python 3",
   "language": "python",
   "name": "python3"
  },
  "language_info": {
   "codemirror_mode": {
    "name": "ipython",
    "version": 3
   },
   "file_extension": ".py",
   "mimetype": "text/x-python",
   "name": "python",
   "nbconvert_exporter": "python",
   "pygments_lexer": "ipython3",
   "version": "3.5.6"
  }
 },
 "nbformat": 4,
 "nbformat_minor": 2
}
