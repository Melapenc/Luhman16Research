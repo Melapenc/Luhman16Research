{
 "cells": [
  {
   "cell_type": "code",
   "execution_count": 1,
   "metadata": {},
   "outputs": [],
   "source": [
    "## Melania Pena \n",
    "import sys\n",
    "import os\n",
    "import astropy.io.fits as fits\n",
    "import math\n",
    "import os.path\n",
    "from astropy.visualization import astropy_mpl_style\n",
    "from astropy.utils.data import get_pkg_data_filename\n",
    "from astropy.io import fits\n",
    "import os.path\n",
    "import matplotlib.pyplot as plt\n",
    "import operator\n",
    "from matplotlib.colors import LogNorm\n",
    "from photutils.datasets import make_4gaussians_image\n",
    "from photutils import centroid_com, centroid_1dg, centroid_2dg\n",
    "import numpy as np\n",
    "from astropy.visualization import PercentileInterval\n",
    "from collections import deque\n",
    "from photutils import fit_2dgaussian\n",
    "from photutils import CircularAperture\n",
    "from photutils import aperture_photometry"
   ]
  },
  {
   "cell_type": "code",
   "execution_count": 2,
   "metadata": {},
   "outputs": [
    {
     "name": "stdout",
     "output_type": "stream",
     "text": [
      "Filename: /Users/melaniapena/Rsrch/Luhman_16_Research/bcd_files/only_bcd_part_1/SPITZER_I1_50037760_0000_0000_2_bcd.fits\n",
      "No.    Name      Ver    Type      Cards   Dimensions   Format\n",
      "  0  PRIMARY       1 PrimaryHDU     673   (32, 32, 64)   float32   \n"
     ]
    }
   ],
   "source": [
    "## Opening the file\n",
    "\n",
    "## Opening a bcd file\n",
    "dir_bcd ='/Users/melaniapena/Rsrch/Luhman_16_Research/bcd_files/only_bcd_part_1/SPITZER_I1_50037760_0000_0000_2_bcd.fits'\n",
    "# dir_bcd ='/Users/melaniapena/Rsrch/Luhman_16_Research/bcd_files/only_bcd_part_2/SPITZER_I2_50038016_0000_0000_2_bcd.fits'\n",
    "fits_file = fits.open(dir_bcd)\n",
    "\n",
    "## displays HDUL types within the fits file.\n",
    "fits_data = get_pkg_data_filename(dir_bcd)\n",
    "fits.info(fits_data)\n",
    "\n",
    "## we take out our data from the HDU \n",
    "image_data= fits.getdata(fits_data, ext=0)\n",
    "\n",
    "## Displays the entire info from HDU\n",
    "# list_Primary = fits_file[0]\n",
    "# list_Primary.header"
   ]
  },
  {
   "cell_type": "code",
   "execution_count": 3,
   "metadata": {},
   "outputs": [
    {
     "name": "stdout",
     "output_type": "stream",
     "text": [
      "Frame Time: 2.0\n",
      "bmjd observation: 56781.095898\n",
      "Flux Conversion 0.1257\n",
      "Gain 3.7\n",
      "Exp-time 1.92\n"
     ]
    }
   ],
   "source": [
    "## pulls out specific information from data.\n",
    "frame_t = fits_file[0].header['FRAMTIME']\n",
    "bmjd_obs = fits_file[0].header['BMJD_OBS']\n",
    "flux_conv= fits_file[0].header['FLUXCONV']\n",
    "gain = fits_file[0].header['GAIN']\n",
    "exp_time= fits_file[0].header['EXPTIME']\n",
    "\n",
    "print('Frame Time:',frame_t)\n",
    "print('bmjd observation:', bmjd_obs)\n",
    "print('Flux Conversion',flux_conv)\n",
    "print('Gain',gain)\n",
    "print('Exp-time', exp_time)\n"
   ]
  },
  {
   "cell_type": "code",
   "execution_count": 4,
   "metadata": {},
   "outputs": [],
   "source": [
    "## Creating an array for time from the given values of the file.\n",
    "# i = 0\n",
    "j_final = 63\n",
    "list_bmjd=[]\n",
    "\n",
    "frameday = frame_t/(3600*24)\n",
    "shift_bmjd = bmjd_obs + 0.5* frameday\n",
    "list_bmjd.append(shift_bmjd)\n",
    "\n",
    "for j in range(j_final):\n",
    "    value = list_bmjd[0] + (j+1)*frameday\n",
    "    bmjd_arr = list_bmjd.append(value)\n",
    "\n",
    "# print(len(list_bmjd))\n",
    "# print(list_bmjd)"
   ]
  },
  {
   "cell_type": "code",
   "execution_count": 5,
   "metadata": {},
   "outputs": [
    {
     "name": "stdout",
     "output_type": "stream",
     "text": [
      "56.51551312649165\n"
     ]
    }
   ],
   "source": [
    "## Doing a Flux conversion\n",
    "conversion_factor = gain*exp_time/flux_conv\n",
    "counts_image = image_data * conversion_factor\n",
    "# counts_image = image_data\n",
    "# print(counts_image)\n",
    "print(conversion_factor)"
   ]
  },
  {
   "cell_type": "code",
   "execution_count": 6,
   "metadata": {},
   "outputs": [],
   "source": [
    "## definitions we will be using in the next cell\n",
    "\n",
    "## slices the image into a certain amount of pixels from the total amount\n",
    "def slicing_im(npix,box):\n",
    "    npix = npix #total pixels\n",
    "    box = box #changes the display of arrays\n",
    "    result= (npix - box)/2\n",
    "#     print(result)\n",
    "#     print(result)\n",
    "    if result % 1 == 0:\n",
    "        end_num = int(result)\n",
    "        strt_num = end_num\n",
    "        new_st = strt_num\n",
    "        new_end = npix - end_num\n",
    "    else:\n",
    "#         end_num = int(round(result,0))\n",
    "        end_num = result +0.5\n",
    "        strt_num = end_num - 1\n",
    "        new_st = strt_num \n",
    "        new_end = npix - end_num\n",
    "#     print(\"total pixels is: \",npix,'\\nLeft side start by:',new_st,\"\\nRight side end by:\",new_end)\n",
    "    strt = int(new_st)\n",
    "    end = int(new_end)\n",
    "    return strt, end\n",
    "\n",
    "## scales the appearance of the image\n",
    "def scale_image(scale,time, data_image):\n",
    "    scale_num = scale\n",
    "    interval = PercentileInterval(scale_num)\n",
    "    interval.get_limits(data_image[time,:,:])\n",
    "    scale_array = interval(data_image[time,:,:])\n",
    "    return scale_array \n"
   ]
  },
  {
   "cell_type": "code",
   "execution_count": 7,
   "metadata": {},
   "outputs": [],
   "source": [
    "def ifelse_pixel(image,z,x,y,Num_zxy,Num):\n",
    "    if Num==31:\n",
    "        if Num_zxy>Num:\n",
    "            pixelpos=float('NaN')  \n",
    "        else:\n",
    "            pixelpos=image[z,x,y]\n",
    "    elif Num==0:  \n",
    "        if Num_zxy<Num:\n",
    "            pixelpos=float('NaN') \n",
    "        else:\n",
    "            pixelpos=image[z,x,y] \n",
    "    return(pixelpos)\n",
    "def replace_nanPixels(dataIm):\n",
    "    new_dataIm= np.zeros((64,32,32))\n",
    "    for z in range(int(len(dataIm))):\n",
    "        for x in range(int(len(dataIm)/2)):\n",
    "            for y in range(int(len(dataIm)/2)):\n",
    "                isitnan = math.isnan(dataIm[z,x,y])\n",
    "                if isitnan == True:\n",
    "    #                 print(z,x,y)\n",
    "#                     print('y: ',miny,y,addy)\n",
    "    #                 print('x: ',minx,x,addx)\n",
    "                    addy=y+1;miny=y-1;addx=x+1;minx=x-1\n",
    "    #               ------------------------\n",
    "                    rightCen = ifelse_pixel(dataIm,z,x,addy,addy,31)\n",
    "                    leftCen = ifelse_pixel(dataIm,z,x,miny,miny,0)\n",
    "                    upCen = ifelse_pixel(dataIm,z,minx,y,minx,0)\n",
    "                    downCen = ifelse_pixel(dataIm,z,addx,y,addx,31)\n",
    "                    upLeft = ifelse_pixel(dataIm,z,minx,miny,minx,0)\n",
    "                    upRight = ifelse_pixel(dataIm,z,minx,addy,minx,0)\n",
    "                    downLeft = ifelse_pixel(dataIm,z,addx,miny,addx,31)\n",
    "                    downRight = ifelse_pixel(dataIm,z,addx,addy,addy,31)\n",
    "#                   ------------------------                                  \n",
    "#                     print(z+1,'(',str(y+1),',',str(x+1),')')\n",
    "#                     print('upleft pixel:',upLeft)\n",
    "#                     print('top pixel:',upCen)\n",
    "#                     print('upright pixel:',upRight)\n",
    "#                     print('left pixel: ',leftCen)\n",
    "#                     print('center pixel: ',im[z,x,y])\n",
    "#                     print('right pixel: ',rightCen)\n",
    "#                     print('lwleft pixel:',downLeft)\n",
    "#                     print('bottom pixel:',downCen)\n",
    "#                     print('lwright pixel:',downRight)\n",
    "#                    ------------------------  \n",
    "                    mean_of_c = np.nanmean([leftCen,rightCen,downLeft,downCen,downRight,upLeft,upCen,upRight])\n",
    "                    new_dataIm[z,x,y] = mean_of_c  \n",
    "                elif isitnan==False:\n",
    "                    new_dataIm[z,x,y] = dataIm[z,x,y] \n",
    "    return new_dataIm\n"
   ]
  },
  {
   "cell_type": "code",
   "execution_count": 8,
   "metadata": {},
   "outputs": [],
   "source": [
    "# im =image_data[:,:,:]#original data\n",
    "# newarr = replace_nanPixels(im) # replaces nan pixels as the mean value of surrounding pixels\n",
    "# test = np.nan_to_num(im) # replaces nan pixels as zeroes\n",
    "\n",
    "# # compare the values\n",
    "# z=0;x=0;y=3 ##First NaN value at z=0\n",
    "# plt.imshow(im[0,:,:]);print(im[z,x,y]) ;plt.show()\n",
    "# plt.imshow(test[0,:,:]);print(test[z,x,y]);plt.show()\n",
    "# plt.imshow(newarr[0,:,:]);print(newarr[z,x,y]);plt.show()"
   ]
  },
  {
   "cell_type": "code",
   "execution_count": 9,
   "metadata": {
    "scrolled": true
   },
   "outputs": [
    {
     "name": "stderr",
     "output_type": "stream",
     "text": [
      "/anaconda3/envs/astroconda/lib/python3.5/site-packages/skimage/measure/_moments.py:258: UserWarning: Using deprecated 2D-only, xy-coordinate interface to moments_central. This interface will be removed in scikit-image 0.16. Use moments_central(image, center=(cr, cc), order=3).\n",
      "  warn(message)\n"
     ]
    },
    {
     "name": "stdout",
     "output_type": "stream",
     "text": [
      "3 14 17\n",
      "Box Size:  3 x 3\n",
      "COM:  15.203607994345925 15.183605446566368\n",
      "2dG:  15.224018354909804 15.228082592859419 \n",
      "\n"
     ]
    },
    {
     "data": {
      "image/png": "[encoded data removed]",
      "text/plain": [
       "<Figure size 432x288 with 1 Axes>"
      ]
     },
     "metadata": {
      "needs_background": "light"
     },
     "output_type": "display_data"
    },
    {
     "name": "stdout",
     "output_type": "stream",
     "text": [
      "5 13 18\n",
      "Box Size:  5 x 5\n",
      "COM:  15.23334358450898 15.256090054477024\n",
      "2dG:  15.188124738706481 15.202235525596524 \n",
      "\n"
     ]
    },
    {
     "data": {
      "image/png": "[encoded data removed]",
      "text/plain": [
       "<Figure size 432x288 with 1 Axes>"
      ]
     },
     "metadata": {
      "needs_background": "light"
     },
     "output_type": "display_data"
    },
    {
     "name": "stdout",
     "output_type": "stream",
     "text": [
      "7 12 19\n",
      "Box Size:  7 x 7\n",
      "COM:  15.237019834194818 15.25417454501876\n",
      "2dG:  15.181371174213924 15.196548587560462 \n",
      "\n"
     ]
    },
    {
     "data": {
      "image/png": "[encoded data removed]",
      "text/plain": [
       "<Figure size 432x288 with 1 Axes>"
      ]
     },
     "metadata": {
      "needs_background": "light"
     },
     "output_type": "display_data"
    },
    {
     "name": "stdout",
     "output_type": "stream",
     "text": [
      "9 11 20\n",
      "Box Size:  9 x 9\n",
      "COM:  15.233846319041326 15.256329669048975\n",
      "2dG:  15.179041027255149 15.194564366579067 \n",
      "\n"
     ]
    },
    {
     "data": {
      "image/png": "[encoded data removed]",
      "text/plain": [
       "<Figure size 432x288 with 1 Axes>"
      ]
     },
     "metadata": {
      "needs_background": "light"
     },
     "output_type": "display_data"
    },
    {
     "name": "stdout",
     "output_type": "stream",
     "text": [
      "11 10 21\n",
      "Box Size:  11 x 11\n",
      "COM:  15.23094584035022 15.25224065238228\n",
      "2dG:  15.177891432423042 15.19358326223686 \n",
      "\n"
     ]
    },
    {
     "data": {
      "image/png": "[encoded data removed]",
      "text/plain": [
       "<Figure size 432x288 with 1 Axes>"
      ]
     },
     "metadata": {
      "needs_background": "light"
     },
     "output_type": "display_data"
    },
    {
     "name": "stdout",
     "output_type": "stream",
     "text": [
      "13 9 22\n",
      "Box Size:  13 x 13\n",
      "COM:  15.222307396857765 15.245849707642067\n",
      "2dG:  15.177211276423467 15.19300240351119 \n",
      "\n"
     ]
    },
    {
     "data": {
      "image/png": "[encoded data removed]",
      "text/plain": [
       "<Figure size 432x288 with 1 Axes>"
      ]
     },
     "metadata": {
      "needs_background": "light"
     },
     "output_type": "display_data"
    },
    {
     "name": "stdout",
     "output_type": "stream",
     "text": [
      "15 8 23\n",
      "Box Size:  15 x 15\n",
      "COM:  15.214247766353056 15.241804147599048\n",
      "2dG:  15.17677821170044 15.192632508110222 \n",
      "\n"
     ]
    },
    {
     "data": {
      "image/png": "[encoded data removed]",
      "text/plain": [
       "<Figure size 432x288 with 1 Axes>"
      ]
     },
     "metadata": {
      "needs_background": "light"
     },
     "output_type": "display_data"
    },
    {
     "name": "stdout",
     "output_type": "stream",
     "text": [
      "17 7 24\n",
      "Box Size:  17 x 17\n",
      "COM:  15.198224255747949 15.23499889099521\n",
      "2dG:  15.176482703421714 15.19238007968047 \n",
      "\n"
     ]
    },
    {
     "data": {
      "image/png": "[encoded data removed]",
      "text/plain": [
       "<Figure size 432x288 with 1 Axes>"
      ]
     },
     "metadata": {
      "needs_background": "light"
     },
     "output_type": "display_data"
    },
    {
     "name": "stdout",
     "output_type": "stream",
     "text": [
      "19 6 25\n",
      "Box Size:  19 x 19\n",
      "COM:  15.095903011610087 15.093862792107512\n",
      "2dG:  15.176261805889906 15.192190651434375 \n",
      "\n"
     ]
    },
    {
     "data": {
      "image/png": "[encoded data removed]",
      "text/plain": [
       "<Figure size 432x288 with 1 Axes>"
      ]
     },
     "metadata": {
      "needs_background": "light"
     },
     "output_type": "display_data"
    },
    {
     "name": "stdout",
     "output_type": "stream",
     "text": [
      "21 5 26\n",
      "Box Size:  21 x 21\n",
      "COM:  15.081895147051 15.080661857079955\n",
      "2dG:  15.175205694977903 15.191220547611945 \n",
      "\n"
     ]
    },
    {
     "name": "stderr",
     "output_type": "stream",
     "text": [
      "WARNING: The fit may be unsuccessful; check fit_info['message'] for more information. [astropy.modeling.fitting]\n"
     ]
    },
    {
     "data": {
      "image/png": "[encoded data removed]",
      "text/plain": [
       "<Figure size 432x288 with 1 Axes>"
      ]
     },
     "metadata": {
      "needs_background": "light"
     },
     "output_type": "display_data"
    },
    {
     "name": "stdout",
     "output_type": "stream",
     "text": [
      "23 4 27\n",
      "Box Size:  23 x 23\n",
      "COM:  15.067530249871597 15.074502715952875\n",
      "2dG:  15.17575248178608 15.191753176188175 \n",
      "\n"
     ]
    },
    {
     "data": {
      "image/png": "[encoded data removed]",
      "text/plain": [
       "<Figure size 432x288 with 1 Axes>"
      ]
     },
     "metadata": {
      "needs_background": "light"
     },
     "output_type": "display_data"
    },
    {
     "name": "stdout",
     "output_type": "stream",
     "text": [
      "25 3 28\n",
      "Box Size:  25 x 25\n",
      "COM:  15.055238817593917 15.069871618912874\n",
      "2dG:  15.175826173744294 15.19181818988396 \n",
      "\n"
     ]
    },
    {
     "data": {
      "image/png": "[encoded data removed]",
      "text/plain": [
       "<Figure size 432x288 with 1 Axes>"
      ]
     },
     "metadata": {
      "needs_background": "light"
     },
     "output_type": "display_data"
    },
    {
     "name": "stdout",
     "output_type": "stream",
     "text": [
      "27 2 29\n",
      "Box Size:  27 x 27\n",
      "COM:  15.043022304275704 15.07268493526023\n",
      "2dG:  15.16762252154941 15.185745065093156 \n",
      "\n"
     ]
    },
    {
     "data": {
      "image/png": "[encoded data removed]",
      "text/plain": [
       "<Figure size 432x288 with 1 Axes>"
      ]
     },
     "metadata": {
      "needs_background": "light"
     },
     "output_type": "display_data"
    },
    {
     "name": "stdout",
     "output_type": "stream",
     "text": [
      "29 1 30\n",
      "Box Size:  29 x 29\n",
      "COM:  15.033923445206899 15.076382623279041\n",
      "2dG:  15.175073150974741 15.191166465269077 \n",
      "\n"
     ]
    },
    {
     "data": {
      "image/png": "[encoded data removed]",
      "text/plain": [
       "<Figure size 432x288 with 1 Axes>"
      ]
     },
     "metadata": {
      "needs_background": "light"
     },
     "output_type": "display_data"
    },
    {
     "name": "stdout",
     "output_type": "stream",
     "text": [
      "31 0 31\n",
      "Box Size:  31 x 31\n",
      "COM:  15.030210446561075 15.080047744392521\n",
      "2dG:  15.175671303622972 15.191685825344567 \n",
      "\n"
     ]
    },
    {
     "data": {
      "image/png": "[encoded data removed]",
      "text/plain": [
       "<Figure size 432x288 with 1 Axes>"
      ]
     },
     "metadata": {
      "needs_background": "light"
     },
     "output_type": "display_data"
    }
   ],
   "source": [
    "## This creates a for loop where it slices the image starting from it's full \n",
    "## image and measures its centroid.\n",
    "\n",
    "time_i = 0\n",
    "scale_num = 100\n",
    "COM_arr_x=[]\n",
    "npix = 32\n",
    "start_i = 3\n",
    "steps_i = 2\n",
    "\n",
    "centroid_com_arr_x = []\n",
    "centroid_com_arr_y = []\n",
    "centroid_2dG_arr_x = []\n",
    "centroid_2dG_arr_y = []\n",
    "\n",
    "# counts_image=replace_nanPixels(counts_image)\n",
    "# counts_image=np.nan_to_num(counts_image) \n",
    "\n",
    "for i_box in range(start_i,npix,steps_i):\n",
    "    strt, end = slicing_im(npix,i_box)\n",
    "    interval = PercentileInterval(scale_num) \n",
    "    interval.get_limits(counts_image[time_i,strt:end,strt:end])\n",
    "    scale_array = interval(counts_image[time_i,strt:end,strt:end])\n",
    "\n",
    "    result = scale_array\n",
    "    if i_box < 3:\n",
    "        print('too small of an imgae to calculate\\n')\n",
    "    elif i_box >= 3:\n",
    "        x_com, y_com = centroid_com(result)\n",
    "        x_2dg, y_2dg = centroid_2dg(result)\n",
    "        delta = (npix-i_box)/2 -.5 #\n",
    "#         print(delta)\n",
    "        xc = x_com +delta#\n",
    "        yc = y_com +delta#\n",
    "        xc2 = x_2dg +delta#\n",
    "        yc2 = y_2dg +delta#\n",
    "        x_com=xc#\n",
    "        y_com = yc#\n",
    "        x_2dg = xc2#\n",
    "        y_2dg =yc2#\n",
    "        print(i_box,strt,end)\n",
    "        print('Box Size: ', i_box,'x',i_box)\n",
    "        print('COM: ',x_com, y_com)\n",
    "        print('2dG: ',x_2dg, y_2dg,'\\n')\n",
    "#         ave_com = (x1+y1)/2\n",
    "#         ave_2dG = (x2+y2)/2\n",
    "        centroid_com_arr_x.append(x_com)\n",
    "        centroid_com_arr_y.append(y_com)\n",
    "        centroid_2dG_arr_x.append(x_2dg)\n",
    "        centroid_2dG_arr_y.append(y_2dg)\n",
    "        plt.imshow(result)\n",
    "        plt.show()"
   ]
  },
  {
   "cell_type": "code",
   "execution_count": 10,
   "metadata": {},
   "outputs": [],
   "source": [
    "## definitions we will be using in the next cell\n",
    "\n",
    "##create an array where the list is set to only decimals \n",
    "def diff_arr(array):\n",
    "    new_array = []\n",
    "    for i in range(len(array)):\n",
    "        result = array[i]-i-1\n",
    "        new_array.append(result)\n",
    "    return new_array"
   ]
  },
  {
   "cell_type": "code",
   "execution_count": 11,
   "metadata": {},
   "outputs": [],
   "source": [
    "# cen_com_x = diff_arr(centroid_com_arr_x)\n",
    "# cen_com_y = diff_arr(centroid_com_arr_y)\n",
    "# cen_2dG_x = diff_arr(centroid_2dG_arr_x)\n",
    "# cen_2dG_y = diff_arr(centroid_2dG_arr_y)\n",
    "# # print(cen_2dG_x)\n",
    "\n",
    "# box_size_arr = np.linspace(3,31,15)\n",
    "\n",
    "# ## difference plot\n",
    "# ## To view them individually\n",
    "# # plt.plot(box_size_arr,cen_com_x,'.')\n",
    "# # plt.plot(box_size_arr,cen_com_y,'.')\n",
    "# # plt.plot(box_size_arr,cen_2dG_x,'.')\n",
    "# # plt.plot(box_size_arr,cen_2dG_y,'.')\n",
    "\n",
    "# ## This can will determine what box size we should use based on \n",
    "# ## the result of COM and 2dg graphs\n",
    "# print('at time slice: ',time_i)\n",
    "\n",
    "# fig = plt.figure(figsize=(10,5))\n",
    "# ax1 = fig.add_subplot(1,2,1)\n",
    "# ax2 = fig.add_subplot(1,2,2)\n",
    "# ax1.plot(box_size_arr,cen_com_x,'.',label = 'COM: x')\n",
    "# ax1.plot(box_size_arr,cen_com_y,'.',label = 'COM: y')\n",
    "# ax2.plot(box_size_arr,cen_2dG_x,'.',label = '2dG: x')\n",
    "# ax2.plot(box_size_arr,cen_2dG_y,'.',label = '2dG: y')\n",
    "# ax1.set_title('COM')\n",
    "# ax2.set_title('2dG')\n",
    "# ax2.legend(loc='upper right')\n",
    "# ax1.legend(loc='upper right')\n",
    "# plt.show\n",
    "# # best used at box size 9 or 10"
   ]
  },
  {
   "cell_type": "code",
   "execution_count": 12,
   "metadata": {},
   "outputs": [],
   "source": [
    "## definition we will be using in the next cell\n",
    "\n",
    "## we will create our own definition that will return a value using\n",
    "## the python photometry functions.\n",
    "def aperture_sum(radius, data, val_x, val_y):\n",
    "    R = radius\n",
    "    val_2dg_x = val_x\n",
    "    val_2dg_y = val_y\n",
    "    ## for 'positions' we will take the 2dg Gaussian outputs.\n",
    "    positions = [(val_2dg_x, val_2dg_y)]\n",
    "    apertures = CircularAperture(positions, r=R)\n",
    "    phot_table = aperture_photometry(data,apertures)\n",
    "#     phot_table['aperture_sum'].info.format = '%.8g'  # for consistent table output\n",
    "#     print(phot_table)\n",
    "    return phot_table['aperture_sum']\n"
   ]
  },
  {
   "cell_type": "code",
   "execution_count": 13,
   "metadata": {},
   "outputs": [],
   "source": [
    "# # determining where the background becomes constant as the radius increases\n",
    "# radius_arr = np.linspace(1,25,25)\n",
    "# t = time_i ## Taking the same time index.\n",
    "\n",
    "# k=0\n",
    "# j=0\n",
    "\n",
    "# ap_arr = [] ## empty aperture array\n",
    "# b_arr = []  ## empty background array\n",
    "# add = 200 ## we add 200 becuase some values from the background array have low negative values.\n",
    "#           ## we want to see the whole log plot.\n",
    "    \n",
    "\n",
    "\n",
    "# for i in radius_arr: ##calculating the apertures from an array of radius vlaues ranging from 1 to 25\n",
    "#     # calculating the aperture.\n",
    "#     # example: aperture_sum(radius, data, val_x, val_y)\n",
    "#     ap = aperture_sum(i,counts_image[t,:,:], centroid_2dG_arr_x[14], centroid_2dG_arr_y[14])\n",
    "#     ap_arr.append(ap)\n",
    "\n",
    "    \n",
    "# for j in radius_arr:\n",
    "#     if k ==0:\n",
    "#         backgrnd = (ap_arr[1] - ap_arr[0]) / (math.pi*(radius_arr[1]**2 - radius_arr[0]**2)) \n",
    "# #         print(backgrnd)\n",
    "#         backgrnd = backgrnd + add\n",
    "#         k = 1+k\n",
    "#         b_arr.append(backgrnd)\n",
    "#     elif k > 0:\n",
    "#         backgrnd = (ap_arr[k-1] - ap_arr[k]) / (math.pi*(radius_arr[k-1]**2 - radius_arr[k]**2))\n",
    "# #         print(backgrnd)\n",
    "#         backgrnd = backgrnd + add\n",
    "#         k = 1+k\n",
    "#         b_arr.append(backgrnd)\n",
    "\n",
    "\n",
    "# ## Array of backgrounds when measuring the aperture by a between two radius values\n",
    "# ## than calculating the background\n",
    "# # print('background array as R increases:\\n',b_arr)\n",
    "# ## took the log of the background array\n",
    "\n",
    "# # print(b_arr)\n",
    "# plt.semilogy(radius_arr, b_arr,'.')\n",
    "# plt.xlabel('radius')\n",
    "# plt.ylabel('Background ')\n",
    "# plt.title('Channel (logplot)')\n",
    "# plt.show()\n",
    "# plt.xlabel('radius')\n",
    "# plt.ylabel('Background ')\n",
    "# plt.title('Channel (not a logplot)')\n",
    "# plt.plot(radius_arr,b_arr,'.')\n",
    "# ## possible radius sizes could be from 13 to 20 (channel 1) because\n",
    "# ## when looking from the resulted graph, we can\n",
    "# ## guess that's where it starts to become more constant\n",
    "# ## as the radius increases\n",
    "# # print(ap_arr)\n",
    "# # print(b_arr)\n"
   ]
  },
  {
   "cell_type": "code",
   "execution_count": 16,
   "metadata": {},
   "outputs": [
    {
     "name": "stdout",
     "output_type": "stream",
     "text": [
      "R_1:  7 \n",
      "R_2:  11 \n",
      "R_3:  14\n",
      "\n",
      "---------------------------------------------------------------------\n",
      "\n",
      "with radius 1:\n",
      "    aperture_sum  \n",
      "-----------------\n",
      "431123.5264731117 \n",
      "\n",
      "with radius 2:\n",
      "    aperture_sum   \n",
      "------------------\n",
      "408359.84486721805 \n",
      "\n",
      "with radius 3:\n",
      "    aperture_sum  \n",
      "-----------------\n",
      "372796.9766890019 \n",
      "\n",
      "\n",
      "---------------------------------------------------------------------\n",
      "\n",
      "area of radius one: 153.93804002589985\n",
      "area of radius two: 235.61944901923448 \n",
      "\n",
      "\n",
      "---------------------------------------------------------------------\n",
      "\n",
      "background counts:\n",
      "    aperture_sum   \n",
      "------------------\n",
      "-35562.86817821616 \n",
      "\n",
      "background subtraction:\n",
      "    aperture_sum  \n",
      "-----------------\n",
      "454357.9336828796\n"
     ]
    }
   ],
   "source": [
    "r_1 = 7#8\n",
    "r_2 = 11#13\n",
    "r_3 = 14#23\n",
    "\n",
    "t = 0 #time index for this file\n",
    "cen_i = 2 #centroid index\n",
    "aperture_1 = aperture_sum(r_1,counts_image[t,:,:], centroid_com_arr_x[cen_i], centroid_com_arr_y[cen_i]) #total counts\n",
    "aperture_2 = aperture_sum(r_2,counts_image[t,:,:], centroid_com_arr_x[cen_i], centroid_com_arr_y[cen_i])\n",
    "aperture_3 = aperture_sum(r_3,counts_image[t,:,:], centroid_com_arr_x[cen_i], centroid_com_arr_y[cen_i])\n",
    "\n",
    "## Area of aperture,\n",
    "area_1 = math.pi * r_1**2\n",
    "\n",
    "## Background in annulus from r_2 to r_3\n",
    "background_counts = aperture_3 - aperture_2\n",
    "\n",
    "## Area of Annulus\n",
    "area_2 = math.pi*(r_3**2 - r_2**2) #also known as npix\n",
    "\n",
    "## subtracting background: \n",
    "backgrnd_subtract = aperture_1 - background_counts*area_1/area_2\n",
    "\n",
    "# ##background per pixel for next line below\n",
    "# print(background_counts/area_2,'\\n')\n",
    "print('R_1: ',r_1,'\\nR_2: ',r_2,'\\nR_3: ',r_3)\n",
    "print('\\n---------------------------------------------------------------------\\n')\n",
    "print('with radius 1:\\n',aperture_1,'\\n\\nwith radius 2:\\n',aperture_2,'\\n\\nwith radius 3:\\n',aperture_3,'\\n')\n",
    "print('\\n---------------------------------------------------------------------\\n')\n",
    "print('area of radius one:',area_1)\n",
    "print('area of radius two:',area_2,'\\n')\n",
    "print('\\n---------------------------------------------------------------------\\n')\n",
    "print('background counts:\\n',background_counts,'\\n')\n",
    "\n",
    "# ## our photometry will be the subtracted background variable.\n",
    "print('background subtraction:\\n', backgrnd_subtract)\n",
    "\n",
    "# # So our best radius values are 7,13, and 23 for channel 1. We can still guesstimate between the \n",
    "# # radius values. But as we increase r_1 from 7 to 9, the background substraction\n",
    "# # stays constant telling us that we've reached the measure of the image of the star minus the \n",
    "# # background \n"
   ]
  },
  {
   "cell_type": "code",
   "execution_count": 15,
   "metadata": {},
   "outputs": [
    {
     "name": "stdout",
     "output_type": "stream",
     "text": [
      "residual_aperture_sum\n",
      "---------------------\n",
      "            454377.69\n"
     ]
    }
   ],
   "source": [
    "from photutils import CircularAnnulus\n",
    "cen_i = 2\n",
    "cenx = centroid_2dG_arr_x[cen_i]\n",
    "ceny = centroid_2dG_arr_y[cen_i]\n",
    "# print(cenx,ceny)\n",
    "positions = [(cenx, ceny)]\n",
    "apertures = CircularAperture(positions, r=7)\n",
    "annulus_apertures = CircularAnnulus(positions, r_in=11., r_out=14)\n",
    "# print(annulus_apertures)\n",
    "\n",
    "apers = [apertures, annulus_apertures]\n",
    "phot_table = aperture_photometry(counts_image[0,:,:], apers)\n",
    "# print(phot_table)\n",
    "bkg_mean = phot_table['aperture_sum_1'] / annulus_apertures.area()\n",
    "bkg_sum = bkg_mean * apertures.area()\n",
    "final_sum = phot_table['aperture_sum_0'] - bkg_sum\n",
    "phot_table['residual_aperture_sum'] = final_sum\n",
    "phot_table['residual_aperture_sum'].info.format = '%.8g'  # for consistent table output\n",
    "print(phot_table['residual_aperture_sum']) "
   ]
  },
  {
   "cell_type": "code",
   "execution_count": null,
   "metadata": {},
   "outputs": [],
   "source": []
  }
 ],
 "metadata": {
  "kernelspec": {
   "display_name": "Python 3",
   "language": "python",
   "name": "python3"
  },
  "language_info": {
   "codemirror_mode": {
    "name": "ipython",
    "version": 3
   },
   "file_extension": ".py",
   "mimetype": "text/x-python",
   "name": "python",
   "nbconvert_exporter": "python",
   "pygments_lexer": "ipython3",
   "version": "3.5.6"
  }
 },
 "nbformat": 4,
 "nbformat_minor": 2
}
