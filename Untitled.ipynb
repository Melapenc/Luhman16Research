{
 "cells": [
  {
   "cell_type": "code",
   "execution_count": null,
   "metadata": {},
   "outputs": [],
   "source": [
    "# # This for-loop only works when there's a list of similar files within \n",
    "# # a folder already given to you and would like to pick out files with \n",
    "# # a specific name from the list of name filea and saving it into a \n",
    "# # seperate new folder (hence the save_dir).\n",
    "# count = 0\n",
    "# if os.path.exists(save_dir):\n",
    "#     for file_a in os.listdir(dir_BCD):\n",
    "#         full_file_path = os.path.join(dir_BCD, file_a)\n",
    "#         str_file = file_a\n",
    "#         replacements = ('.', '_')\n",
    "#         for r in replacements:\n",
    "#             str_file = str_file.replace(r, ' ')\n",
    "#         str_file = str_file.split()\n",
    "#         for i in str_file:\n",
    "#             str_i = str(i)\n",
    "#             if str_i == desired_var:\n",
    "#                 full_save_file_path = os.path.join(save_dir, file_a)  \n",
    "#                 if os.path.exists(full_save_file_path) and os.path.getsize(full_save_file_path) >= 0:\n",
    "#                     print(\"This file already exists and contains the information needed.\\nFile Name:\",file_a,\"\\n\\n\")\n",
    "# #                         if count == 0:\n",
    "# #                         print(\"there is stuff within this file already\",file_a)\n",
    "# #                         count = count + 1\n",
    "#                 else:\n",
    "#                     hdulist = fits.open(full_file_path)\n",
    "#                     hdulist.writeto(full_save_file_path)\n",
    "#                     hdulist.close() \n",
    "#                     print(\"New file created!\\nFile Name:\",file_a,\"\\n\\n\")\n",
    "            \n",
    "# else:\n",
    "#     print(\"This folder does not exists.\\nYou must create the folder first\")\n",
    "#    "
   ]
  },
  {
   "cell_type": "code",
   "execution_count": 2,
   "metadata": {},
   "outputs": [],
   "source": [
    "#     list_of_files = glob.glob(full_file_path) # * means all if need specific format then *.csv\n",
    "# #     latest_file = max(list_of_files, key=os.path.getctime)\n",
    "# #     first_file = min(list_of_files, key=os.path.getctime)"
   ]
  },
  {
   "cell_type": "code",
   "execution_count": null,
   "metadata": {},
   "outputs": [],
   "source": [
    "# # This for-loop only works when there's a list of similar files within \n",
    "# # a folder already given to you and would like to pick out files with \n",
    "# # a specific name from the list of name filea and saving it into a \n",
    "# # seperate new folder (hence the save_dir).\n",
    "\n",
    "# if os.path.exists(save_dir):\n",
    "#     for file_a in os.listdir(dir_BCD):\n",
    "# #     joins the directory and file name again\n",
    "#         full_file_path = os.path.join(dir_BCD, file_a)\n",
    "# #     We are looking for file names that uses bcd fits.\n",
    "#         str_file = file_a\n",
    "# #    creates the text file as an array and is split depending on the given delimiter\n",
    "#         replacements = ('.', '_')\n",
    "#         for r in replacements:\n",
    "#             str_file = str_file.replace(r, ' ')\n",
    "#         str_file = str_file.split()\n",
    "# ##     The array is split into 8 indexes of an array.\n",
    "# ##     Ex: ['SPITZER', 'I1', '50037760', '0000', '0000', '2', 'bcd', 'fits']\n",
    " \n",
    "# ##     Another for-loop that looks for indices with the same desired\n",
    "# ##     variable that was given ('desired_var').\n",
    "#         for i in str_file:\n",
    "# #         saves it into string just in case. and us used to compare \n",
    "# #         if the desired_var and the idices is the same.\n",
    "#             str_i = str(i)\n",
    "#             if str_i == desired_var:\n",
    "# ##            joins the full directory together again\n",
    "#                 full_save_file_path = os.path.join(save_dir, file)\n",
    "# ##            Open the fits file from original directory and \n",
    "# ##            saves it into the new directoy we just \n",
    "# ##            created (which is full_save_file_path). \n",
    "# ##            Then closes the fits file.\n",
    "#                 if os.path.exists(full_save_file_path) and os.path.getsize(full_save_file_path) >= 0:\n",
    "#                     print(\"This file already exists and contains the information needed.\\nFile Name:\",file_a,\"\\n\\n\")\n",
    "#                 else:\n",
    "#                     hdulist = fits.open(full_file_path)\n",
    "#                     hdulist.writeto(full_save_file_path)\n",
    "#                     hdulist.close() \n",
    "#                     print(\"New file created!\\nFile Name:\",file_a,\"\\n\\n\")\n",
    "# else:\n",
    "#     print(\"This folder does not exists.\\nYou must create the folder first\")\n"
   ]
  }
 ],
 "metadata": {
  "kernelspec": {
   "display_name": "Python 3",
   "language": "python",
   "name": "python3"
  },
  "language_info": {
   "codemirror_mode": {
    "name": "ipython",
    "version": 3
   },
   "file_extension": ".py",
   "mimetype": "text/x-python",
   "name": "python",
   "nbconvert_exporter": "python",
   "pygments_lexer": "ipython3",
   "version": "3.5.6"
  }
 },
 "nbformat": 4,
 "nbformat_minor": 2
}
